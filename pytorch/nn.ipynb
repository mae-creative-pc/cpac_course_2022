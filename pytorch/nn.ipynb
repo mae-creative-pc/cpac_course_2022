{
 "cells": [
  {
   "cell_type": "code",
   "execution_count": null,
   "metadata": {},
   "outputs": [],
   "source": [
    "import torch\n",
    "from torch import nn\n",
    "from torch.utils.data import DataLoader\n",
    "from torchvision import datasets\n",
    "from torchvision.transforms import ToTensor\n"
   ]
  },
  {
   "cell_type": "markdown",
   "metadata": {},
   "source": [
    "## download dataset"
   ]
  },
  {
   "cell_type": "code",
   "execution_count": null,
   "metadata": {},
   "outputs": [],
   "source": [
    "def download_mnist_datasets():\n",
    "    train_data = datasets.MNIST(\n",
    "        root = \"data\" \n",
    "        download=True\n",
    "        train=True\n",
    "        transform=ToTensor() # each value is normalized btw 0 and 1\n",
    "    )\n",
    "\n",
    "    validation_data = datasets.MNIST(\n",
    "        root = \"data\" \n",
    "        download=True\n",
    "        train=False\n",
    "        transform=ToTensor() # each value is normalized btw 0 and 1\n",
    "    )\n",
    "    return train_data, validation_data"
   ]
  },
  {
   "cell_type": "code",
   "execution_count": null,
   "metadata": {},
   "outputs": [],
   "source": [
    "train_data, validation_data = downlaod_mnist_datasets()"
   ]
  },
  {
   "cell_type": "markdown",
   "metadata": {},
   "source": [
    "## data loader"
   ]
  },
  {
   "cell_type": "code",
   "execution_count": null,
   "metadata": {},
   "outputs": [],
   "source": [
    "# we want to load data in batches since it allow us to save memory\n",
    "BATCH_SIZE = 128\n",
    "train_data_loader = DataLoader(train_data, batch_size = BATCH_SIZE)\n"
   ]
  },
  {
   "cell_type": "markdown",
   "metadata": {},
   "source": [
    "## build model"
   ]
  },
  {
   "cell_type": "code",
   "execution_count": null,
   "metadata": {},
   "outputs": [],
   "source": [
    "class FeedForwardNet(nn.Module):\n",
    "    \n",
    "    def __init__(self):\n",
    "        super().__init__()\n",
    "        self.flatten = nn.Flatten()\n",
    "        # images of MNIST are 28 x 28 pixels\n",
    "        # since we have flatten the images, we have to pass a 1D\n",
    "        # dimension which will be 28*28 in the first dense layer\n",
    "        self.dense_layers = nn.Sequential(\n",
    "            nn.Linear(28*28, 256), # equivalent dense layer in keras\n",
    "            nn.ReLU(),\n",
    "            nn.Linear(256, 10) # 10 num of classes\n",
    "        ) # sequential let us to pack together more layers\n",
    "        self.softmax = nn.Softmax(dim=1)\n",
    "\n",
    "    # forward indicates pytorch how manipulate data\n",
    "    def forward(self, input_data): \n",
    "        flattened_data = self.flatten(input_data)\n",
    "        logits = self.dense_layers(flattened_data)\n",
    "        predictions = self.softmax(logits)\n",
    "        return predictions\n"
   ]
  },
  {
   "cell_type": "code",
   "execution_count": null,
   "metadata": {},
   "outputs": [],
   "source": [
    "if torch.cuda.is_available():\n",
    "    device = \"cuda\"\n",
    "else:\n",
    "    device = \"cpu\"\n",
    "    \n",
    "feed_forward_net = FeedForwardNet().to(device)\n"
   ]
  },
  {
   "cell_type": "markdown",
   "metadata": {},
   "source": [
    "## train"
   ]
  },
  {
   "cell_type": "code",
   "execution_count": null,
   "metadata": {},
   "outputs": [],
   "source": [
    "def train_one_epoch(model, data_loader, loss_fn, optimiser, device):\n",
    "    for inputs, targets in data_loader:\n",
    "        inputs, targets = inputs.to(device), targets.to(device)\n",
    "\n",
    "        # calculate loss\n",
    "        predictions = model(inputs) # pass inputs to the mdoels\n",
    "        loss = loss_fn(predictions, targets)\n",
    "\n",
    "        # backpropagate loss and update weights\n",
    "        optimiser.zero_grad() # at every iteration the optimizer will compute the grad but at each batch we want to reset grad to zero\n",
    "        loss.backward()\n",
    "        optimiser.step() #updates the weights\n",
    "\n",
    "    print(f\"Loss: {loss.item()}\")\n",
    "\n",
    "\n",
    "def train(model, data_loader, loss_fn, optimiser, device, epochs):\n",
    "    for i in range(epochs):\n",
    "        print(f\"Epoch {i+1}\")\n",
    "        train_one_epoch(model, data_loader, loss_fn, optimiser, device)\n",
    "        print(\"--------------\")\n",
    "    print(\"Train is done\")"
   ]
  },
  {
   "cell_type": "code",
   "execution_count": null,
   "metadata": {},
   "outputs": [],
   "source": [
    "\n",
    "loss_fn = nn.CrossEntropyLoss()\n",
    "optimiser = torch.optim.Adam(feed_forward_net.parameters(),\n",
    "                             lr = 0.01)\n",
    "train(feed_forward_net, train_data_loader, loss_fn, optimiser, device, 10)"
   ]
  },
  {
   "cell_type": "code",
   "execution_count": null,
   "metadata": {},
   "outputs": [],
   "source": [
    "torch.save(feed_forward_net.state_dict(), \"feedfwnet.pth\") # state dict is a dictionary python that has all the important information of layers and parameters\n"
   ]
  },
  {
   "cell_type": "markdown",
   "metadata": {},
   "source": [
    "## predictions\n"
   ]
  },
  {
   "cell_type": "code",
   "execution_count": null,
   "metadata": {},
   "outputs": [],
   "source": [
    "class_mapping = [\n",
    "    \"0\", # class 0\n",
    "    \"1\",\n",
    "    \"2\",\n",
    "    \"3\",\n",
    "    \"4\",\n",
    "    \"5\",\n",
    "    \"6\",\n",
    "    \"7\",\n",
    "    \"8\",\n",
    "    \"9\"\n",
    "]"
   ]
  },
  {
   "cell_type": "code",
   "execution_count": null,
   "metadata": {},
   "outputs": [],
   "source": [
    "def predict(model, input, target, class_mapping):\n",
    "    model.eval() # pytorch model, switches the model to an evaluation mode switching off all the normalizations\n",
    "    # model.train() # back to train mode\n",
    "    with torch.no_grad(): # context manager, helpful since it does not cmpute any gradient\n",
    "        # we dont want to compute the gradient if we are evaluating, but only during training\n",
    "        predictions = model(input)\n",
    "        # Tensor obj (1, 10) # 1 sample and 10 classes\n",
    "        predicted_index = predictions[0].argmax(0)\n",
    "        predicted = class_mapping[predicted_index]\n",
    "        expected = class_mapping[target]\n",
    "    return predicted, expected"
   ]
  },
  {
   "cell_type": "code",
   "execution_count": null,
   "metadata": {},
   "outputs": [],
   "source": [
    "validation_data_loader = DataLoader(validation_data, batch_size = BATCH_SIZE)\n",
    "\n",
    "# get a sample from the validation dataset for inference\n",
    "input, target = validation_data[0][0], validation_data[0][1]\n",
    "\n",
    "# make an inference\n",
    "predicted, expected = predict(feed_forward_net, input, target, class_mapping)\n"
   ]
  }
 ],
 "metadata": {
  "kernelspec": {
   "display_name": "Python 3.10.7 ('cpac-venv': venv)",
   "language": "python",
   "name": "python3"
  },
  "language_info": {
   "name": "python",
   "version": "3.10.7"
  },
  "orig_nbformat": 4,
  "vscode": {
   "interpreter": {
    "hash": "208dcd36ff4b667fab860902e6f4c1b739c7e77789e3282809e7a5c08b8492df"
   }
  }
 },
 "nbformat": 4,
 "nbformat_minor": 2
}
