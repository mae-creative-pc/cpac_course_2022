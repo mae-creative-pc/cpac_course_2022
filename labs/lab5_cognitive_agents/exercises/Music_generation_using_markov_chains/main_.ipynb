{
 "cells": [
  {
   "cell_type": "code",
   "execution_count": 1,
   "metadata": {},
   "outputs": [],
   "source": [
    "import numpy as np\n",
    "import pandas as pd\n",
    "from collections import Counter\n",
    "import time\n",
    "import argparse\n",
    "from pythonosc import udp_client\n",
    "\n",
    "chords_midi_dict={\n",
    "    'F':[5,9,12],\n",
    "    'Em7':[4,9,11,14],\n",
    "    'A7':[9,13,16,21], \n",
    "    'Dm':[2,5,9], \n",
    "    'Dm7':[2,5,9,12], \n",
    "    'Bb':[10,14,17], \n",
    "    'C7':[0,4,7], \n",
    "    'C':[0,4,7,10], \n",
    "    'G7':[7,11,14,17], \n",
    "    'A7sus4':[9,14,16,21], \n",
    "    'Gm6':[7,10,14,16], \n",
    "    'Fsus4':[5,10,12],\n",
    "    }"
   ]
  },
  {
   "cell_type": "code",
   "execution_count": 2,
   "metadata": {},
   "outputs": [
    {
     "data": {
      "text/html": [
       "<div>\n",
       "<style scoped>\n",
       "    .dataframe tbody tr th:only-of-type {\n",
       "        vertical-align: middle;\n",
       "    }\n",
       "\n",
       "    .dataframe tbody tr th {\n",
       "        vertical-align: top;\n",
       "    }\n",
       "\n",
       "    .dataframe thead th {\n",
       "        text-align: right;\n",
       "    }\n",
       "</style>\n",
       "<table border=\"1\" class=\"dataframe\">\n",
       "  <thead>\n",
       "    <tr style=\"text-align: right;\">\n",
       "      <th></th>\n",
       "      <th>chords</th>\n",
       "    </tr>\n",
       "  </thead>\n",
       "  <tbody>\n",
       "    <tr>\n",
       "      <th>0</th>\n",
       "      <td>F</td>\n",
       "    </tr>\n",
       "    <tr>\n",
       "      <th>1</th>\n",
       "      <td>Em7</td>\n",
       "    </tr>\n",
       "    <tr>\n",
       "      <th>2</th>\n",
       "      <td>A7</td>\n",
       "    </tr>\n",
       "    <tr>\n",
       "      <th>3</th>\n",
       "      <td>Dm</td>\n",
       "    </tr>\n",
       "    <tr>\n",
       "      <th>4</th>\n",
       "      <td>Dm7</td>\n",
       "    </tr>\n",
       "    <tr>\n",
       "      <th>...</th>\n",
       "      <td>...</td>\n",
       "    </tr>\n",
       "    <tr>\n",
       "      <th>90</th>\n",
       "      <td>Bb</td>\n",
       "    </tr>\n",
       "    <tr>\n",
       "      <th>91</th>\n",
       "      <td>F</td>\n",
       "    </tr>\n",
       "    <tr>\n",
       "      <th>92</th>\n",
       "      <td>G7</td>\n",
       "    </tr>\n",
       "    <tr>\n",
       "      <th>93</th>\n",
       "      <td>Bb</td>\n",
       "    </tr>\n",
       "    <tr>\n",
       "      <th>94</th>\n",
       "      <td>F</td>\n",
       "    </tr>\n",
       "  </tbody>\n",
       "</table>\n",
       "<p>95 rows × 1 columns</p>\n",
       "</div>"
      ],
      "text/plain": [
       "   chords\n",
       "0       F\n",
       "1     Em7\n",
       "2      A7\n",
       "3      Dm\n",
       "4     Dm7\n",
       "..    ...\n",
       "90     Bb\n",
       "91      F\n",
       "92     G7\n",
       "93     Bb\n",
       "94      F\n",
       "\n",
       "[95 rows x 1 columns]"
      ]
     },
     "execution_count": 2,
     "metadata": {},
     "output_type": "execute_result"
    }
   ],
   "source": [
    "#Read Chord Collection file\n",
    "data = pd.read_csv('data/Beatles_chord_sequence.csv')\n",
    "data"
   ]
  },
  {
   "cell_type": "markdown",
   "metadata": {},
   "source": [
    "# TEST\n"
   ]
  },
  {
   "cell_type": "code",
   "execution_count": 7,
   "metadata": {},
   "outputs": [
    {
     "data": {
      "text/plain": [
       "<zip at 0x2e07bafbf40>"
      ]
     },
     "execution_count": 7,
     "metadata": {},
     "output_type": "execute_result"
    }
   ],
   "source": [
    "chords = data['chords'].values\n"
   ]
  },
  {
   "cell_type": "code",
   "execution_count": 15,
   "metadata": {},
   "outputs": [
    {
     "name": "stdout",
     "output_type": "stream",
     "text": [
      "[array(['F', 'Em7', 'A7', 'Dm', 'Dm7', 'Bb', 'C7', 'F', 'C', 'Dm7', 'G7',\n",
      "       'Bb', 'F', 'F', 'Em7', 'A7', 'Dm', 'Dm7', 'Bb', 'C7', 'F', 'C',\n",
      "       'Dm7', 'G7', 'Bb', 'F', 'A7sus4', 'A7', 'Dm', 'C', 'Bb', 'Dm',\n",
      "       'Gm6', 'C7', 'F', 'A7sus4', 'A7', 'Dm', 'C', 'Bb', 'Dm', 'Gm6',\n",
      "       'C7', 'F', 'Fsus4', 'F', 'F', 'Em7', 'A7', 'Dm', 'Dm7', 'Bb', 'C7',\n",
      "       'F', 'C', 'Dm7', 'G7', 'Bb', 'F', 'A7sus4', 'A7', 'Dm', 'C', 'Bb',\n",
      "       'Dm', 'Gm6', 'C7', 'F', 'A7sus4', 'A7', 'Dm', 'C', 'Bb', 'Dm',\n",
      "       'Gm6', 'C7', 'F', 'Fsus4', 'F', 'F', 'Em7', 'A7', 'Dm', 'Dm7',\n",
      "       'Bb', 'C7', 'F', 'C', 'Dm7', 'G7', 'Bb', 'F', 'G7', 'Bb', 'F'],\n",
      "      dtype=object), array(['Em7', 'A7', 'Dm', 'Dm7', 'Bb', 'C7', 'F', 'C', 'Dm7', 'G7', 'Bb',\n",
      "       'F', 'F', 'Em7', 'A7', 'Dm', 'Dm7', 'Bb', 'C7', 'F', 'C', 'Dm7',\n",
      "       'G7', 'Bb', 'F', 'A7sus4', 'A7', 'Dm', 'C', 'Bb', 'Dm', 'Gm6',\n",
      "       'C7', 'F', 'A7sus4', 'A7', 'Dm', 'C', 'Bb', 'Dm', 'Gm6', 'C7', 'F',\n",
      "       'Fsus4', 'F', 'F', 'Em7', 'A7', 'Dm', 'Dm7', 'Bb', 'C7', 'F', 'C',\n",
      "       'Dm7', 'G7', 'Bb', 'F', 'A7sus4', 'A7', 'Dm', 'C', 'Bb', 'Dm',\n",
      "       'Gm6', 'C7', 'F', 'A7sus4', 'A7', 'Dm', 'C', 'Bb', 'Dm', 'Gm6',\n",
      "       'C7', 'F', 'Fsus4', 'F', 'F', 'Em7', 'A7', 'Dm', 'Dm7', 'Bb', 'C7',\n",
      "       'F', 'C', 'Dm7', 'G7', 'Bb', 'F', 'G7', 'Bb', 'F'], dtype=object)]\n"
     ]
    }
   ],
   "source": [
    "[chords[i:] for i in range(2)]"
   ]
  },
  {
   "cell_type": "code",
   "execution_count": 35,
   "metadata": {},
   "outputs": [
    {
     "name": "stdout",
     "output_type": "stream",
     "text": [
      "<zip object at 0x000002E07BBED280>\n"
     ]
    }
   ],
   "source": [
    "ngrams = zip(*[chords[i:] for i in range(2)])\n",
    "print(ngrams)"
   ]
  },
  {
   "cell_type": "code",
   "execution_count": 36,
   "metadata": {},
   "outputs": [
    {
     "name": "stdout",
     "output_type": "stream",
     "text": [
      "['F Em7', 'Em7 A7', 'A7 Dm', 'Dm Dm7', 'Dm7 Bb', 'Bb C7', 'C7 F', 'F C', 'C Dm7', 'Dm7 G7', 'G7 Bb', 'Bb F', 'F F', 'F Em7', 'Em7 A7', 'A7 Dm', 'Dm Dm7', 'Dm7 Bb', 'Bb C7', 'C7 F', 'F C', 'C Dm7', 'Dm7 G7', 'G7 Bb', 'Bb F', 'F A7sus4', 'A7sus4 A7', 'A7 Dm', 'Dm C', 'C Bb', 'Bb Dm', 'Dm Gm6', 'Gm6 C7', 'C7 F', 'F A7sus4', 'A7sus4 A7', 'A7 Dm', 'Dm C', 'C Bb', 'Bb Dm', 'Dm Gm6', 'Gm6 C7', 'C7 F', 'F Fsus4', 'Fsus4 F', 'F F', 'F Em7', 'Em7 A7', 'A7 Dm', 'Dm Dm7', 'Dm7 Bb', 'Bb C7', 'C7 F', 'F C', 'C Dm7', 'Dm7 G7', 'G7 Bb', 'Bb F', 'F A7sus4', 'A7sus4 A7', 'A7 Dm', 'Dm C', 'C Bb', 'Bb Dm', 'Dm Gm6', 'Gm6 C7', 'C7 F', 'F A7sus4', 'A7sus4 A7', 'A7 Dm', 'Dm C', 'C Bb', 'Bb Dm', 'Dm Gm6', 'Gm6 C7', 'C7 F', 'F Fsus4', 'Fsus4 F', 'F F', 'F Em7', 'Em7 A7', 'A7 Dm', 'Dm Dm7', 'Dm7 Bb', 'Bb C7', 'C7 F', 'F C', 'C Dm7', 'Dm7 G7', 'G7 Bb', 'Bb F', 'F G7', 'G7 Bb', 'Bb F']\n"
     ]
    }
   ],
   "source": [
    "bigrams = [\" \".join(ngram) for ngram in ngrams]\n",
    "print(bigrams)"
   ]
  },
  {
   "cell_type": "code",
   "execution_count": 37,
   "metadata": {},
   "outputs": [
    {
     "data": {
      "text/plain": [
       "['F Em7', 'Em7 A7', 'A7 Dm', 'Dm Dm7', 'Dm7 Bb']"
      ]
     },
     "execution_count": 37,
     "metadata": {},
     "output_type": "execute_result"
    }
   ],
   "source": [
    "bigrams[:5]"
   ]
  },
  {
   "cell_type": "markdown",
   "metadata": {},
   "source": [
    "# MAIN"
   ]
  },
  {
   "cell_type": "code",
   "execution_count": 39,
   "metadata": {},
   "outputs": [
    {
     "name": "stdout",
     "output_type": "stream",
     "text": [
      "['F Em7', 'Em7 A7', 'A7 Dm', 'Dm Dm7', 'Dm7 Bb']\n",
      "94\n"
     ]
    }
   ],
   "source": [
    "# Generate Bigrams\n",
    "n = 2\n",
    "chords = data['chords'].values\n",
    "ngrams = zip(*[chords[i:] for i in range(n)])\n",
    "bigrams = [\" \".join(ngram) for ngram in ngrams]\n",
    "\n",
    "print(bigrams[:5])\n",
    "print(len(bigrams))"
   ]
  },
  {
   "cell_type": "code",
   "execution_count": null,
   "metadata": {},
   "outputs": [],
   "source": [
    "def predict_next_state(chord:str, data:list=bigrams):\n",
    "    \"\"\"Predict next chord based on current state.\"\"\"\n",
    "    # create list of bigrams which starts with current chord\n",
    "    bigrams_with_current_chord = [bigram for bigram in bigrams if bigram.split(' ')[0] == chord]\n",
    "    # count appearance of each bigram\n",
    "    count_appearance = Counter(bigrams_with_current_chord)\n",
    "\n",
    "    # convert appearance into probabilities\n",
    "    for ngram in count_appearance.keys():\n",
    "        count_appearance[ngram] = count_appearance[ngram]/len(bigrams_with_current_chord)\n",
    "    # create list of possible options for the next chord\n",
    "    options = [key.split(' ')[1] for key in count_appearance.keys()]\n",
    "    # create  list of probability distribution\n",
    "    probabilities = list(count_appearance.values())\n",
    "    # return random prediction\n",
    "    return np.random.choice(options, p=probabilities)"
   ]
  },
  {
   "cell_type": "code",
   "execution_count": null,
   "metadata": {},
   "outputs": [],
   "source": [
    "def generate_sequence(chord:str=None, data:list=bigrams, length:int=30):\n",
    "    \"\"\"Generate sequence of defined length.\"\"\"\n",
    "    # create list to store future chords\n",
    "    chords = []\n",
    "    for n in range(length):\n",
    "        # append next chord for the list\n",
    "        chords.append(predict_next_state(chord = chord, data = data))\n",
    "        # use last chord in sequence to predict next chord\n",
    "        chord = chords[-1]\n",
    "    return chords  "
   ]
  },
  {
   "cell_type": "code",
   "execution_count": null,
   "metadata": {},
   "outputs": [],
   "source": [
    "# GENERATE THE SEQUENCE\n",
    "chords = generate_sequence('C')\n",
    "\n",
    "\n",
    "print('')\n",
    "print('')\n",
    "print('Generated Chords Sequence:')\n",
    "print(chords)\n",
    "time.sleep(2)\n",
    "print('')\n",
    "print('')\n",
    "print('')\n",
    "print('Play the sequence with supercollider:')"
   ]
  },
  {
   "cell_type": "code",
   "execution_count": null,
   "metadata": {},
   "outputs": [],
   "source": [
    "def start_osc_communication():\n",
    "    # argparse helps writing user-friendly commandline interfaces\n",
    "    parser = argparse.ArgumentParser()\n",
    "    # OSC server ip\n",
    "    parser.add_argument(\"--ip\", default='127.0.0.1', help=\"The ip of the OSC server\")\n",
    "    # OSC server port (check on SuperCollider)\n",
    "    parser.add_argument(\"--port\", type=int, default=57121, help=\"The port the OSC server is listening on\")\n",
    "\n",
    "    # Parse the arguments\n",
    "    args = parser.parse_args()\n",
    "\n",
    "    # Start the UDP Client\n",
    "    client = udp_client.SimpleUDPClient(args.ip, args.port)\n",
    "\n",
    "    return client\n"
   ]
  },
  {
   "cell_type": "code",
   "execution_count": null,
   "metadata": {},
   "outputs": [],
   "source": [
    "client = start_osc_communication()"
   ]
  },
  {
   "cell_type": "code",
   "execution_count": null,
   "metadata": {},
   "outputs": [],
   "source": [
    "# Send chords\n",
    "for c in chords:\n",
    "    print(c)\n",
    "    if len(chords_midi_dict[c]) == 3:\n",
    "        client.send_message(\"/synth_control\",['chord3',chords_midi_dict[c][0],chords_midi_dict[c][1],chords_midi_dict[c][2]])\n",
    "        time.sleep(1)\n",
    "    if len(chords_midi_dict[c]) == 4:\n",
    "        client.send_message(\"/synth_control\",['chord4',chords_midi_dict[c][0],chords_midi_dict[c][1],chords_midi_dict[c][2],chords_midi_dict[c][3]])\n",
    "        time.sleep(1)"
   ]
  }
 ],
 "metadata": {
  "kernelspec": {
   "display_name": "Python 3.10.7 ('cpac-venv': venv)",
   "language": "python",
   "name": "python3"
  },
  "language_info": {
   "codemirror_mode": {
    "name": "ipython",
    "version": 3
   },
   "file_extension": ".py",
   "mimetype": "text/x-python",
   "name": "python",
   "nbconvert_exporter": "python",
   "pygments_lexer": "ipython3",
   "version": "3.10.7"
  },
  "orig_nbformat": 4,
  "vscode": {
   "interpreter": {
    "hash": "208dcd36ff4b667fab860902e6f4c1b739c7e77789e3282809e7a5c08b8492df"
   }
  }
 },
 "nbformat": 4,
 "nbformat_minor": 2
}
