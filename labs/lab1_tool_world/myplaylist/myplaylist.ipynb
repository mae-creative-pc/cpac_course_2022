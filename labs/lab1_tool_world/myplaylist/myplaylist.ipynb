{
 "cells": [
  {
   "cell_type": "markdown",
   "metadata": {},
   "source": [
    "## Preliminary Operations\n"
   ]
  },
  {
   "cell_type": "code",
   "execution_count": null,
   "metadata": {},
   "outputs": [],
   "source": [
    "import requests"
   ]
  },
  {
   "cell_type": "code",
   "execution_count": 1,
   "metadata": {},
   "outputs": [],
   "source": [
    "# 1) go to https://developer.spotify.com/console/get-audio-analysis-track/?id=06AKEBrKUckW0KREUWRnvT\n",
    "# 2) press \"try it\"\n",
    "# 3) login\n",
    "# 4) agree \n",
    "# 5) execute this cell and give the script the token (see above)\n",
    "if \"token\" not in locals(): # if you have not inserted the token \n",
    "    token=input(\"Give me the token\")\n",
    "\n",
    "header={\"Authorization\": \"Bearer %s\"%token}\n"
   ]
  },
  {
   "cell_type": "code",
   "execution_count": null,
   "metadata": {},
   "outputs": [],
   "source": [
    "# %% Search api: first info\n",
    "\n",
    "params={\"q\": \"Staying alive bee gees\", \"type\": \"track\"}\n",
    "search_url=\"https://api.spotify.com/v1/search\"\n",
    "req=requests.get(url=search_url, params=params,headers=header)\n",
    "assert req.status_code==200, req.content\n",
    "answer=req.json()\n",
    "items=answer[\"tracks\"][\"items\"]\n",
    "first_result=items[0]\n",
    "print(\"First result\")\n",
    "print(\"Author: %s\"%first_result[\"artists\"][0][\"name\"])\n",
    "print(\"Name: %s\"%first_result[\"name\"])\n",
    "print(\"Preview url: %s\"%first_result[\"preview_url\"])\n",
    "print(\"Id on spotify: %s\"%first_result[\"id\"])"
   ]
  },
  {
   "cell_type": "code",
   "execution_count": null,
   "metadata": {},
   "outputs": [],
   "source": [
    "# %% Audio feature APIs\n",
    "\n",
    "modes=[\"minor\", \"major\"]\n",
    "key_tonal=[\"C\",\"C#\", \"D\",\"D#\",\"E\",\"F\",\"F#\",\"G\",\"G#\",\"A\",\"A#\",\"B\"]\n",
    "\n",
    "audio_feature_url=\"https://api.spotify.com/v1/audio-features\"\n",
    "params={\"ids\":first_result[\"id\"]}\n",
    "req=requests.get(url=audio_feature_url, params=params, headers=header)\n",
    "audio_features=req.json()[\"audio_features\"][0]\n",
    "#print(audio_features)\n",
    "print(\"Duration: %.3f seconds\"%(audio_features[\"duration_ms\"]/1000))\n",
    "print(\"BPM: %d\"%audio_features[\"tempo\"])\n",
    "print(\"Key: %s-%s\"%(key_tonal[audio_features[\"key\"]], \n",
    "                   modes[audio_features[\"mode\"]]))\n",
    "\n",
    "for feature in [\"danceability\", \"energy\", \"speechiness\", \"acousticness\",\"liveness\",\"instrumentalness\",\"valence\"]:\n",
    "    print(\"The %s of the song is %1.f %%\"%(feature, 100*audio_features[feature]))\n"
   ]
  },
  {
   "cell_type": "markdown",
   "metadata": {},
   "source": [
    "## Playlist\n"
   ]
  },
  {
   "cell_type": "code",
   "execution_count": null,
   "metadata": {},
   "outputs": [],
   "source": [
    "import os\n",
    "import json\n",
    "import time\n",
    "import requests\n",
    "import urllib\n",
    "import numpy as np\n",
    "os.chdir(os.path.abspath(os.path.dirname(__file__)))\n",
    "\n",
    "audio_feature_url=\"https://api.spotify.com/v1/audio-features\"\n",
    "add_item_playlist_url=\"https://api.spotify.com/v1/playlists/{playlist_id}/tracks\"\n",
    "create_playlist_url=\"https://api.spotify.com/v1/users/{user_id}/playlists\""
   ]
  },
  {
   "cell_type": "code",
   "execution_count": null,
   "metadata": {},
   "outputs": [],
   "source": [
    "# %% Get the token\n",
    "# 1) go to https://developer.spotify.com/console/post-playlists/\n",
    "# 2) press \"get token\"\n",
    "# 3) remember to include playlist-modify-public \n",
    "# 4) login\n",
    "# 5) agree \n",
    "# 6) execute this cell and give the script the token (see above)\n",
    "if \"token\" not in locals(): # if you have not inserted the token \n",
    "    token=input(\"Please, give me your token\\n\")\n",
    "header={\"Authorization\": \"Bearer %s\"%token}\n"
   ]
  },
  {
   "cell_type": "code",
   "execution_count": null,
   "metadata": {},
   "outputs": [],
   "source": [
    "# %% Get the list of songs\n",
    "\n",
    "assert os.path.exists(\"list_of_songs.json\"), \"Please put here a list of songs\"\n",
    "with open(\"list_of_songs.json\",'r') as fp:\n",
    "    ids=json.load(fp)[\"ids\"]"
   ]
  },
  {
   "cell_type": "code",
   "execution_count": null,
   "metadata": {},
   "outputs": [],
   "source": [
    "# %% Get the audio features\n",
    "audio_features=[]\n",
    "for id_ in ids:\n",
    "    params={\"ids\":id_}\n",
    "    req=requests.get(url=audio_feature_url, params=params, headers=header)\n",
    "    assert req.status_code==200, req.content\n",
    "    audio_features_song=req.json()[\"audio_features\"][0]\n",
    "    audio_features.append(audio_features_song)\n",
    "    time.sleep(1) # wait 1 second between the questions"
   ]
  },
  {
   "cell_type": "code",
   "execution_count": null,
   "metadata": {},
   "outputs": [],
   "source": [
    "def sort_songs(audio_features):\n",
    "    \"\"\"\"Receive audio features and sort them according to your criterion\"\n",
    "\n",
    "    Args:\n",
    "        audio_features (list of dictionaries): List of songs with audio features\n",
    "\n",
    "    Returns:\n",
    "        list of dict: the sorted list\n",
    "    \"\"\"\n",
    "    sorted_songs=[]\n",
    "\n",
    "    # Random shuffle: replace it!\n",
    "    if TEACHER_CODE:\n",
    "        random_idxs=np.random.permutation(len(audio_features))\n",
    "        for idx in random_idxs:\n",
    "            sorted_songs.append(audio_features[idx])\n",
    "    else:\n",
    "        # your code here\n",
    "        denceability = np.array([af[\"danceability\"] for af in audio_features])\n",
    "        idx = np.argsort(denceability)\n",
    "        N_third = int(len(audio_features)/3)\n",
    "        low_dance_idx = idx[0:N_third]\n",
    "        mid_dance_idx = idx[N_third: 2*N_third]\n",
    "        high_dance_idx = idx[N_third*2:]\n",
    "        sorted_idx = np.stack([mid_dance_idx, high_dance_idx, low_dance_idx[::-1]])\n",
    "        for idxs in sorted_idx:\n",
    "            sorted_songs.append(audio_features[idxs])\n",
    "        \n",
    "    return sorted_songs"
   ]
  },
  {
   "cell_type": "code",
   "execution_count": null,
   "metadata": {},
   "outputs": [],
   "source": [
    "# %% Now let's create some way to organize them!\n",
    "\n",
    "shuffled_songs=sort_songs(audio_features)"
   ]
  },
  {
   "cell_type": "code",
   "execution_count": null,
   "metadata": {},
   "outputs": [],
   "source": [
    "# %% Create the playlist\n",
    "# Go to https://open.spotify.com/ , top right corner, press \"Account\"\n",
    "# look at your username or user_id\n",
    "name_playlist=input(\"What's the name of the playlist you want to create?\\n\")\n",
    "user_id=input(\"What's your username?\\n\")\n",
    "\n",
    "params={\"name\":name_playlist, \"description\": \"made during cpac!\"}"
   ]
  },
  {
   "cell_type": "code",
   "execution_count": null,
   "metadata": {},
   "outputs": [],
   "source": [
    "req=requests.post(url=create_playlist_url.format(user_id=user_id), \n",
    "                    json=params, headers=header)\n",
    "assert req.status_code==201, req.content\n",
    "playlist_info=req.json()\n",
    "print(\"Playlist created with url %s\"%playlist_info[\"external_urls\"][\"spotify\"])"
   ]
  },
  {
   "cell_type": "code",
   "execution_count": null,
   "metadata": {},
   "outputs": [],
   "source": [
    "# %% Populating the playlist\n",
    "# Doc at https://developer.spotify.com/documentation/web-api/reference/playlists/add-tracks-to-playlist/\n",
    "uris=[]\n",
    "for song in shuffled_songs:\n",
    "    uris.append(song[\"uri\"])\n",
    "params={\"uris\":uris, }\n",
    "req=requests.post(url=add_item_playlist_url.format(playlist_id=playlist_info[\"id\"]), json=params, headers=header)\n",
    "assert req.status_code==201, req.content\n",
    "playlist_info_songs=req.json()"
   ]
  }
 ],
 "metadata": {
  "kernelspec": {
   "display_name": "Python 3.10.7 ('cpac-venv': venv)",
   "language": "python",
   "name": "python3"
  },
  "language_info": {
   "codemirror_mode": {
    "name": "ipython",
    "version": 3
   },
   "file_extension": ".py",
   "mimetype": "text/x-python",
   "name": "python",
   "nbconvert_exporter": "python",
   "pygments_lexer": "ipython3",
   "version": "3.10.7"
  },
  "orig_nbformat": 4,
  "vscode": {
   "interpreter": {
    "hash": "208dcd36ff4b667fab860902e6f4c1b739c7e77789e3282809e7a5c08b8492df"
   }
  }
 },
 "nbformat": 4,
 "nbformat_minor": 2
}
