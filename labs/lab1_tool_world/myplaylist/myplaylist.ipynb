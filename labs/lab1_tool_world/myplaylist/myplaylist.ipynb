{
 "cells": [
  {
   "cell_type": "markdown",
   "metadata": {},
   "source": [
    "## Preliminary Operations\n"
   ]
  },
  {
   "cell_type": "code",
   "execution_count": 1,
   "metadata": {},
   "outputs": [],
   "source": [
    "import requests"
   ]
  },
  {
   "cell_type": "code",
   "execution_count": 2,
   "metadata": {},
   "outputs": [],
   "source": [
    "# 1) go to https://developer.spotify.com/console/get-audio-analysis-track/?id=06AKEBrKUckW0KREUWRnvT\n",
    "# 2) press \"try it\"\n",
    "# 3) login\n",
    "# 4) agree \n",
    "# 5) execute this cell and give the script the token (see above)\n",
    "if \"token\" not in locals(): # if you have not inserted the token \n",
    "    token=input(\"Give me the token\")\n",
    "\n",
    "header={\"Authorization\": \"Bearer %s\"%token}\n"
   ]
  },
  {
   "cell_type": "code",
   "execution_count": 3,
   "metadata": {},
   "outputs": [
    {
     "name": "stdout",
     "output_type": "stream",
     "text": [
      "First result\n",
      "Author: Bee Gees\n",
      "Name: Stayin Alive\n",
      "Preview url: https://p.scdn.co/mp3-preview/f7a8a8c787b2a8ba31e78c42fa791663c4af396d?cid=774b29d4f13844c495f206cafdad9c86\n",
      "Id on spotify: 5ubvP9oKmxLUVq506fgLhk\n"
     ]
    }
   ],
   "source": [
    "# %% Search api: first info\n",
    "\n",
    "params={\"q\": \"Staying alive bee gees\", \"type\": \"track\"}\n",
    "search_url=\"https://api.spotify.com/v1/search\"\n",
    "req=requests.get(url=search_url, params=params,headers=header)\n",
    "assert req.status_code==200, req.content\n",
    "answer=req.json()\n",
    "items=answer[\"tracks\"][\"items\"]\n",
    "first_result=items[0]\n",
    "print(\"First result\")\n",
    "print(\"Author: %s\"%first_result[\"artists\"][0][\"name\"])\n",
    "print(\"Name: %s\"%first_result[\"name\"])\n",
    "print(\"Preview url: %s\"%first_result[\"preview_url\"])\n",
    "print(\"Id on spotify: %s\"%first_result[\"id\"])"
   ]
  },
  {
   "cell_type": "code",
   "execution_count": 4,
   "metadata": {},
   "outputs": [
    {
     "name": "stdout",
     "output_type": "stream",
     "text": [
      "Duration: 285.373 seconds\n",
      "BPM: 103\n",
      "Key: A#-minor\n",
      "The danceability of the song is 70 %\n",
      "The energy of the song is 77 %\n",
      "The speechiness of the song is 3 %\n",
      "The acousticness of the song is 3 %\n",
      "The liveness of the song is 15 %\n",
      "The instrumentalness of the song is 1 %\n",
      "The valence of the song is 95 %\n"
     ]
    }
   ],
   "source": [
    "# %% Audio feature APIs\n",
    "\n",
    "modes=[\"minor\", \"major\"]\n",
    "key_tonal=[\"C\",\"C#\", \"D\",\"D#\",\"E\",\"F\",\"F#\",\"G\",\"G#\",\"A\",\"A#\",\"B\"]\n",
    "\n",
    "audio_feature_url=\"https://api.spotify.com/v1/audio-features\"\n",
    "params={\"ids\":first_result[\"id\"]}\n",
    "req=requests.get(url=audio_feature_url, params=params, headers=header)\n",
    "audio_features=req.json()[\"audio_features\"][0]\n",
    "#print(audio_features)\n",
    "print(\"Duration: %.3f seconds\"%(audio_features[\"duration_ms\"]/1000))\n",
    "print(\"BPM: %d\"%audio_features[\"tempo\"])\n",
    "print(\"Key: %s-%s\"%(key_tonal[audio_features[\"key\"]], \n",
    "                   modes[audio_features[\"mode\"]]))\n",
    "\n",
    "for feature in [\"danceability\", \"energy\", \"speechiness\", \"acousticness\",\"liveness\",\"instrumentalness\",\"valence\"]:\n",
    "    print(\"The %s of the song is %1.f %%\"%(feature, 100*audio_features[feature]))\n"
   ]
  },
  {
   "cell_type": "code",
   "execution_count": null,
   "metadata": {},
   "outputs": [],
   "source": [
    "audio_features"
   ]
  },
  {
   "cell_type": "markdown",
   "metadata": {},
   "source": [
    "## Playlist\n"
   ]
  },
  {
   "cell_type": "code",
   "execution_count": 5,
   "metadata": {},
   "outputs": [],
   "source": [
    "import os\n",
    "import json\n",
    "import time\n",
    "import requests\n",
    "import urllib\n",
    "import numpy as np\n",
    "os.chdir(os.path.abspath(os.path.dirname(\"myplaylist\")))\n",
    "\n",
    "audio_feature_url=\"https://api.spotify.com/v1/audio-features\"\n",
    "add_item_playlist_url=\"https://api.spotify.com/v1/playlists/{playlist_id}/tracks\"\n",
    "create_playlist_url=\"https://api.spotify.com/v1/users/{user_id}/playlists\""
   ]
  },
  {
   "cell_type": "code",
   "execution_count": 6,
   "metadata": {},
   "outputs": [],
   "source": [
    "# %% Get the token\n",
    "# 1) go to https://developer.spotify.com/console/post-playlists/\n",
    "# 2) press \"get token\"\n",
    "# 3) remember to include playlist-modify-public \n",
    "# 4) login\n",
    "# 5) agree \n",
    "# 6) execute this cell and give the script the token (see above)\n",
    "if \"token\" not in locals(): # if you have not inserted the token \n",
    "    token=input(\"Please, give me your token\\n\")\n",
    "header={\"Authorization\": \"Bearer %s\"%token}\n"
   ]
  },
  {
   "cell_type": "code",
   "execution_count": 7,
   "metadata": {},
   "outputs": [],
   "source": [
    "# %% Get the list of songs\n",
    "\n",
    "assert os.path.exists(\"list_of_songs_dance.json\"), \"Please put here a list of songs\"\n",
    "with open(\"list_of_songs_dance.json\",'r') as fp:\n",
    "    ids=json.load(fp)[\"ids\"]"
   ]
  },
  {
   "cell_type": "code",
   "execution_count": null,
   "metadata": {},
   "outputs": [],
   "source": [
    "ids"
   ]
  },
  {
   "cell_type": "code",
   "execution_count": 8,
   "metadata": {},
   "outputs": [],
   "source": [
    "# %% Get the audio features\n",
    "audio_features=[]\n",
    "for id_ in ids:\n",
    "    params={\"ids\":id_}\n",
    "    req=requests.get(url=audio_feature_url, params=params, headers=header)\n",
    "    assert req.status_code==200, req.content\n",
    "    audio_features_song=req.json()[\"audio_features\"][0]\n",
    "    audio_features.append(audio_features_song)\n",
    "    time.sleep(1) # wait 1 second between the questions"
   ]
  },
  {
   "cell_type": "code",
   "execution_count": null,
   "metadata": {},
   "outputs": [],
   "source": [
    "audio_features[0]"
   ]
  },
  {
   "cell_type": "code",
   "execution_count": 9,
   "metadata": {},
   "outputs": [],
   "source": [
    "from sklearn import preprocessing"
   ]
  },
  {
   "cell_type": "code",
   "execution_count": 6,
   "metadata": {},
   "outputs": [
    {
     "name": "stdout",
     "output_type": "stream",
     "text": [
      "bella\n"
     ]
    }
   ],
   "source": [
    "x = np.array([3, 1, 2, 4, 5, 6, 7, 10, 9])\n",
    "y = np.argsort(x)\n",
    "y_test = y[:int(.3*len(y))]\n",
    "y_test2 = y[int(.3*len(y)):]\n",
    "\n",
    "y_final = np.concatenate((y_test, y_test2))\n",
    "\n",
    "if np.array_equal(y_final, y):\n",
    "    print(\"bella\")"
   ]
  },
  {
   "cell_type": "code",
   "execution_count": 19,
   "metadata": {},
   "outputs": [
    {
     "data": {
      "text/plain": [
       "array([0.22222222, 0.        , 0.11111111, 0.33333333, 0.44444444,\n",
       "       0.55555556, 0.66666667, 1.        , 0.88888889])"
      ]
     },
     "execution_count": 19,
     "metadata": {},
     "output_type": "execute_result"
    }
   ],
   "source": [
    "x_scaled = preprocessing.minmax_scale(x)\n",
    "x_scaled"
   ]
  },
  {
   "cell_type": "code",
   "execution_count": 10,
   "metadata": {},
   "outputs": [],
   "source": [
    "from random import seed\n",
    "from random import randint\n",
    "seed(1)"
   ]
  },
  {
   "cell_type": "code",
   "execution_count": 11,
   "metadata": {},
   "outputs": [],
   "source": [
    "def random_sort(idx, num_songs):\n",
    "    count = 1\n",
    "    for id in range(len(idx)):\n",
    "        if count == num_songs:\n",
    "            random_seed = randint(id, len(idx)-1)\n",
    "            idx[[id,random_seed]] = idx[[random_seed, id]]\n",
    "            count = 1\n",
    "            num_songs += 1\n",
    "        count += 1\n",
    "    return idx\n"
   ]
  },
  {
   "cell_type": "code",
   "execution_count": 11,
   "metadata": {},
   "outputs": [
    {
     "name": "stdout",
     "output_type": "stream",
     "text": [
      "[0.22222222 0.         0.11111111 0.33333333 0.44444444 0.55555556\n",
      " 0.66666667 1.         0.88888889]\n",
      "[0.125 0.25  0.    0.375 0.5   0.625 0.75  1.    0.875]\n",
      "[0.02777778 0.         0.         0.125      0.22222222 0.34722222\n",
      " 0.5        1.         0.77777778]\n",
      "[0.34722222 0.25       0.11111111 0.70833333 0.94444444 1.18055556\n",
      " 1.41666667 2.         1.76388889]\n"
     ]
    }
   ],
   "source": [
    "x_scaled = preprocessing.minmax_scale(x)\n",
    "y_scaled = preprocessing.minmax_scale(y)\n",
    "print(x_scaled)\n",
    "print(y_scaled)\n",
    "print(np.multiply(x_scaled,y_scaled))\n",
    "print(np.add(x_scaled, y_scaled))"
   ]
  },
  {
   "cell_type": "code",
   "execution_count": null,
   "metadata": {},
   "outputs": [],
   "source": [
    "print(random_sort(y,4))"
   ]
  },
  {
   "cell_type": "code",
   "execution_count": 12,
   "metadata": {},
   "outputs": [],
   "source": [
    "def sort_songs(audio_features, danceb = False):\n",
    "    \"\"\"\"Receive audio features and sort them according to your criterion\"\n",
    "\n",
    "    Args:\n",
    "        audio_features (list of dictionaries): List of songs with audio features\n",
    "\n",
    "    Returns:\n",
    "        list of dict: the sorted list\n",
    "    \"\"\"\n",
    "    sorted_songs=[]\n",
    "    energy = np.array([af[\"energy\"] for af in audio_features])\n",
    "    energy = preprocessing.minmax_scale(energy)\n",
    "    dance = np.array([af[\"danceability\"] for af in audio_features])\n",
    "    dance = preprocessing.minmax_scale(dance)\n",
    "    ifeatures = np.add(0.2*energy, 0.8*dance)\n",
    "    ifeatures = preprocessing.minmax_scale(ifeatures)\n",
    "\n",
    "    if not danceb:       \n",
    "        \n",
    "        idx = np.argsort(energy)\n",
    "        idx_first = idx[:int(.3*len(idx))] # first 30%\n",
    "        idx_rest = idx[int(.3*len(idx)):] # rest of the 70%\n",
    "        idx_rest = random_sort(idx_rest, int(.1*len(idx_rest)))\n",
    "        idx_new = np.concatenate((idx_first, idx_rest))\n",
    "        # energy = energy[idx]\n",
    "    else:\n",
    "        idx_new = np.argsort(ifeatures)\n",
    "    \n",
    "    for idxs in idx_new:\n",
    "        sorted_songs.append(audio_features[idxs])\n",
    "        \n",
    "    return sorted_songs"
   ]
  },
  {
   "cell_type": "code",
   "execution_count": 13,
   "metadata": {},
   "outputs": [],
   "source": [
    "# %% Now let's create some way to organize them!\n",
    "dance = True\n",
    "shuffled_songs=sort_songs(audio_features, dance)"
   ]
  },
  {
   "cell_type": "code",
   "execution_count": 14,
   "metadata": {},
   "outputs": [],
   "source": [
    "# %% Create the playlist\n",
    "# Go to https://open.spotify.com/ , top right corner, press \"Account\"\n",
    "# look at your username or user_id\n",
    "name_playlist=input(\"What's the name of the playlist you want to create?\\n\")\n",
    "user_id=input(\"What's your username?\\n\")\n",
    "\n",
    "params={\"name\":name_playlist, \"description\": \"JAYSOOON TATUUUM!\"}"
   ]
  },
  {
   "cell_type": "code",
   "execution_count": 15,
   "metadata": {},
   "outputs": [
    {
     "name": "stdout",
     "output_type": "stream",
     "text": [
      "Playlist created with url https://open.spotify.com/playlist/4Ue7VjuiDgtW5Vuryj55ZR\n"
     ]
    }
   ],
   "source": [
    "req=requests.post(url=create_playlist_url.format(user_id=user_id), \n",
    "                    json=params, headers=header)\n",
    "assert req.status_code==201, req.content\n",
    "playlist_info=req.json()\n",
    "print(\"Playlist created with url %s\"%playlist_info[\"external_urls\"][\"spotify\"])"
   ]
  },
  {
   "cell_type": "code",
   "execution_count": 16,
   "metadata": {},
   "outputs": [],
   "source": [
    "# %% Populating the playlist\n",
    "# Doc at https://developer.spotify.com/documentation/web-api/reference/playlists/add-tracks-to-playlist/\n",
    "uris=[]\n",
    "for song in shuffled_songs:\n",
    "    uris.append(song[\"uri\"])\n",
    "params={\"uris\":uris, }\n",
    "req=requests.post(url=add_item_playlist_url.format(playlist_id=playlist_info[\"id\"]), json=params, headers=header)\n",
    "assert req.status_code==201, req.content\n",
    "playlist_info_songs=req.json()"
   ]
  }
 ],
 "metadata": {
  "kernelspec": {
   "display_name": "Python 3.10.7 ('cpac-venv': venv)",
   "language": "python",
   "name": "python3"
  },
  "language_info": {
   "codemirror_mode": {
    "name": "ipython",
    "version": 3
   },
   "file_extension": ".py",
   "mimetype": "text/x-python",
   "name": "python",
   "nbconvert_exporter": "python",
   "pygments_lexer": "ipython3",
   "version": "3.10.7"
  },
  "orig_nbformat": 4,
  "vscode": {
   "interpreter": {
    "hash": "208dcd36ff4b667fab860902e6f4c1b739c7e77789e3282809e7a5c08b8492df"
   }
  }
 },
 "nbformat": 4,
 "nbformat_minor": 2
}
