{
 "cells": [
  {
   "cell_type": "code",
   "execution_count": 22,
   "metadata": {},
   "outputs": [],
   "source": [
    "tatum =  {\"mat1\": [30, 10], \"mat2\": [28, 10], \"mat3\": [30, 10], \"mat4\": [30, 5], \"mat4\": [19, 5] }\n",
    "\n",
    "def media(tatum):\n",
    "    tot = 0\n",
    "    cred = 0\n",
    "    for value in list(tatum.values()):\n",
    "        tot += value[0]*value[1]\n",
    "        cred += value[1]\n",
    "\n",
    "    return tot/cred"
   ]
  },
  {
   "cell_type": "code",
   "execution_count": 23,
   "metadata": {},
   "outputs": [
    {
     "data": {
      "text/plain": [
       "27.857142857142858"
      ]
     },
     "execution_count": 23,
     "metadata": {},
     "output_type": "execute_result"
    }
   ],
   "source": [
    "media(tatum)"
   ]
  }
 ],
 "metadata": {
  "kernelspec": {
   "display_name": "Python 3.10.7 ('cpac-venv': venv)",
   "language": "python",
   "name": "python3"
  },
  "language_info": {
   "codemirror_mode": {
    "name": "ipython",
    "version": 3
   },
   "file_extension": ".py",
   "mimetype": "text/x-python",
   "name": "python",
   "nbconvert_exporter": "python",
   "pygments_lexer": "ipython3",
   "version": "3.10.7"
  },
  "orig_nbformat": 4,
  "vscode": {
   "interpreter": {
    "hash": "208dcd36ff4b667fab860902e6f4c1b739c7e77789e3282809e7a5c08b8492df"
   }
  }
 },
 "nbformat": 4,
 "nbformat_minor": 2
}
